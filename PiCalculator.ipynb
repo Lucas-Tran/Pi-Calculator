{
 "cells": [
  {
   "cell_type": "markdown",
   "metadata": {},
   "source": [
    "# How to calculate Pi\n",
    "Using Riemman Sums\n",
    "$$\n",
    "  \\pi = 4\\int_0^1 \\sqrt{1 - x^2}\\,dx\n",
    "$$\n",
    "To approximate $\\pi$"
   ]
  },
  {
   "cell_type": "code",
   "execution_count": 3,
   "metadata": {},
   "outputs": [
    {
     "name": "stdout",
     "output_type": "stream",
     "text": [
      "3.1415928535523587\n",
      "3.141592653589793\n"
     ]
    }
   ],
   "source": [
    "import math\n",
    "\n",
    "def getXValue(deltaX, a, b, i):\n",
    "    return a + deltaX * i\n",
    "\n",
    "def calculatePi(cuts):\n",
    "    a = 0\n",
    "    b = 1\n",
    "    deltaX = (b - a) / cuts\n",
    "    \n",
    "    value = 0\n",
    "    for i in range(0, cuts):\n",
    "        value += deltaX * math.sqrt(1 - getXValue(deltaX, a, b, i) ** 2)\n",
    "    return value * 4\n",
    "\n",
    "print(calculatePi(10000000))\n",
    "print(math.pi)"
   ]
  }
 ],
 "metadata": {
  "kernelspec": {
   "display_name": "Python 3",
   "language": "python",
   "name": "python3"
  },
  "language_info": {
   "codemirror_mode": {
    "name": "ipython",
    "version": 3
   },
   "file_extension": ".py",
   "mimetype": "text/x-python",
   "name": "python",
   "nbconvert_exporter": "python",
   "pygments_lexer": "ipython3",
   "version": "3.9.6"
  }
 },
 "nbformat": 4,
 "nbformat_minor": 2
}
